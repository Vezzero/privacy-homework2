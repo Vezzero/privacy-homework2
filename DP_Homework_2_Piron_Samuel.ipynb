{
  "cells": [
    {
      "cell_type": "code",
      "execution_count": 1,
      "id": "deae58f4",
      "metadata": {
        "id": "deae58f4"
      },
      "outputs": [],
      "source": [
        "import random\n",
        "import numpy as np\n",
        "import numpy.random as npr\n",
        "import matplotlib.pyplot as plt\n",
        "import seaborn as sns\n",
        "import scipy as sp\n",
        "import scipy.stats as sps\n",
        "import pandas as pd"
      ]
    },
    {
      "cell_type": "markdown",
      "id": "1b99b250",
      "metadata": {
        "id": "1b99b250"
      },
      "source": [
        "# COIN-TOSS"
      ]
    },
    {
      "cell_type": "markdown",
      "id": "c53c21b7",
      "metadata": {
        "id": "c53c21b7"
      },
      "source": [
        "A Mechanism is differentially private if for all $S \\subseteq \\operatorname{Range}(\\mathcal{M})$ and for all $x, y \\in \\mathbb{N}|\\mathcal{N}|$ such that $||x − y||1 \\leq 1$:\n",
        "\n",
        "$$Pr[\\mathcal{M}(x)\\in S]\\leq e^\\epsilon Pr[\\mathcal{M}(y)\\in S]+\\delta$$\n",
        "\n",
        "where the probability space is over the coin flips of the mechanism 𝓜. If $\\delta = 0$, we say that M is 𝜀-differentially private.\n"
      ]
    },
    {
      "cell_type": "code",
      "execution_count": 2,
      "id": "55832e6d",
      "metadata": {
        "id": "55832e6d"
      },
      "outputs": [],
      "source": [
        "def trivialCointoss(data):\n",
        "    size = len(data)\n",
        "    outputs = []\n",
        "    for i in range(size):\n",
        "        if random.random()>0.5:\n",
        "            outputs.append(data[i])\n",
        "        else:\n",
        "            outputs.append(1 if random.random() > 0.5 else 0)\n",
        "\n",
        "    return outputs"
      ]
    },
    {
      "cell_type": "code",
      "execution_count": 3,
      "id": "ae960e9c",
      "metadata": {
        "id": "ae960e9c"
      },
      "outputs": [],
      "source": [
        "def getOriginalProbabilities(data):\n",
        "    Y = np.sum(data)/len(data)\n",
        "    p = 2*Y - 1/2\n",
        "    return p"
      ]
    },
    {
      "cell_type": "code",
      "execution_count": 4,
      "id": "aaf14e7d",
      "metadata": {
        "colab": {
          "base_uri": "https://localhost:8080/"
        },
        "id": "aaf14e7d",
        "outputId": "53a2352d-dea1-4a07-8bda-53773efffd47"
      },
      "outputs": [
        {
          "output_type": "stream",
          "name": "stdout",
          "text": [
            "original p:0.25 - observed 0.25\n",
            "original p:0.5 - observed 0.50\n",
            "original p:0.7 - observed 0.70\n",
            "original p:0.8 - observed 0.80\n"
          ]
        }
      ],
      "source": [
        "datasize = 100000\n",
        "p0 = 0.25\n",
        "data = [1 if random.random() < p0 else 0 for i in range(datasize)]\n",
        "tct = trivialCointoss(data)\n",
        "print(f\"original p:{p0} - observed {getOriginalProbabilities(tct):.2f}\")\n",
        "\n",
        "p1 = 0.5\n",
        "data = [1 if random.random() < p1 else 0 for i in range(datasize)]\n",
        "tct = trivialCointoss(data)\n",
        "print(f\"original p:{p1} - observed {getOriginalProbabilities(tct):.2f}\")\n",
        "\n",
        "p2 = 0.7\n",
        "data = [1 if random.random() < p2 else 0 for i in range(datasize)]\n",
        "tct = trivialCointoss(data)\n",
        "print(f\"original p:{p2} - observed {getOriginalProbabilities(tct):.2f}\")\n",
        "\n",
        "p3 = 0.8\n",
        "data = [1 if random.random() < p3 else 0 for i in range(datasize)]\n",
        "tct = trivialCointoss(data)\n",
        "print(f\"original p:{p3} - observed {getOriginalProbabilities(tct):.2f}\")\n"
      ]
    },
    {
      "cell_type": "code",
      "execution_count": 5,
      "id": "8ebf5b72",
      "metadata": {
        "id": "8ebf5b72"
      },
      "outputs": [],
      "source": [
        "def verifyCointoss(trueAnswers, cointoss):\n",
        "    #probability of simulated yes where the true answer was yes\n",
        "    prx = len(np.where((np.array(cointoss)==1) & (np.array(trueAnswers)==1))[0])/len(np.where(np.array(trueAnswers)==1)[0])\n",
        "    # probaility of sumulated yes where thee true answer was no\n",
        "    pry = len(np.where((np.array(cointoss)==1) & (np.array(trueAnswers)==0))[0])/len(np.where(np.array(trueAnswers)==0)[0])\n",
        "\n",
        "    return prx/pry"
      ]
    },
    {
      "cell_type": "code",
      "execution_count": 6,
      "id": "40976848",
      "metadata": {
        "colab": {
          "base_uri": "https://localhost:8080/",
          "height": 472
        },
        "id": "40976848",
        "outputId": "f88ba857-66df-4530-9e2d-71b03509626b"
      },
      "outputs": [
        {
          "output_type": "display_data",
          "data": {
            "text/plain": [
              "<Figure size 640x480 with 1 Axes>"
            ],
            "image/png": "[encoded data removed]"
          },
          "metadata": {}
        }
      ],
      "source": [
        "simsize = 10000\n",
        "datasize= 1000\n",
        "probabilities = []\n",
        "for s in range(simsize):\n",
        "    data = [1 if random.random() < 0.5 else 0 for i in range(datasize)]\n",
        "    probabilities.append(verifyCointoss(data, trivialCointoss(data)))\n",
        "\n",
        "plt.hist(probabilities, density=True)\n",
        "plt.ylabel(\"PDF\")\n",
        "plt.xlabel(\"ratio\")\n",
        "plt.title(f\"e^epsilon = {np.mean(probabilities):.2f}\")\n",
        "plt.show()"
      ]
    },
    {
      "cell_type": "code",
      "execution_count": 7,
      "id": "626c3c5c",
      "metadata": {
        "id": "626c3c5c"
      },
      "outputs": [],
      "source": [
        "def epsilonCointoss(data, epsilon=1e-5):\n",
        "    size = len(data)\n",
        "    outputs = []\n",
        "    p_yes = np.exp(epsilon) / (1 + np.exp(epsilon))  # Probability of keeping true value\n",
        "    print(f\"p_yes (retain true value): {p_yes}\")  # Debugging output\n",
        "    for i in range(size):\n",
        "        if random.random() < p_yes:  # With probability p_yes, retain the true value\n",
        "            outputs.append(data[i])\n",
        "        else:  # Otherwise, flip a coin to generate a random 0 or 1\n",
        "            outputs.append(1 if random.random() > 0.5 else 0)\n",
        "    return outputs\n",
        "\n",
        "# Updated function to compute the original probabilities\n",
        "def getEpsilonOriginalProbabilities(data, epsilon=1e-5):\n",
        "    Y = np.sum(data) / len(data)  # Proportion of 1s in the perturbed data\n",
        "    p_yes = np.exp(epsilon) / (1 + np.exp(epsilon))  # Probability of keeping true value\n",
        "    print(f\"Proportion of 1s in noisy data (Y): {Y}\")  # Debugging output\n",
        "    p = (Y - 0.5 * (1 - p_yes)) / p_yes\n",
        "    print(f\"Estimated original probability (p): {p}\")  # Debugging output\n",
        "    return p"
      ]
    },
    {
      "cell_type": "code",
      "execution_count": 8,
      "id": "1b6b1096",
      "metadata": {
        "colab": {
          "base_uri": "https://localhost:8080/"
        },
        "id": "1b6b1096",
        "outputId": "ee3bdcdf-c484-4cbc-d899-2c5b5df156be"
      },
      "outputs": [
        {
          "output_type": "stream",
          "name": "stdout",
          "text": [
            "epsilon: 0.09531017980432493\n",
            "p_yes (retain true value): 0.5238095238095238\n",
            "Proportion of 1s in noisy data (Y): 0.36837\n",
            "Estimated original probability (p): 0.24870636363636361\n",
            "original p: 0.25 - observed 0.25\n"
          ]
        }
      ],
      "source": [
        "datasize = 100000\n",
        "p0 = 0.25\n",
        "epsilon = np.log(1.1)\n",
        "print(f\"epsilon: {epsilon}\")\n",
        "\n",
        "data = [1 if random.random() < p0 else 0 for i in range(datasize)]\n",
        "\n",
        "tct = epsilonCointoss(data, epsilon)\n",
        "original_p = getEpsilonOriginalProbabilities(tct, epsilon)\n",
        "print(f\"original p: {p0} - observed {original_p:.2f}\")"
      ]
    },
    {
      "cell_type": "markdown",
      "id": "3fd0da9d",
      "metadata": {
        "id": "3fd0da9d"
      },
      "source": [
        "# LAPLACE MECHANISM"
      ]
    },
    {
      "cell_type": "code",
      "execution_count": 9,
      "id": "14b67a9d",
      "metadata": {
        "colab": {
          "base_uri": "https://localhost:8080/",
          "height": 430
        },
        "id": "14b67a9d",
        "outputId": "783e30da-705a-4b62-df3d-b38bf7dbf206"
      },
      "outputs": [
        {
          "output_type": "display_data",
          "data": {
            "text/plain": [
              "<Figure size 640x480 with 1 Axes>"
            ],
            "image/png": "[encoded data removed]"
          },
          "metadata": {}
        }
      ],
      "source": [
        "colors  = [\"blue\", \"green\", \"amber\", \"brown\", \"hazel\", \"grey\"]\n",
        "frequencies = [0.08, 0.02, 0.05, 0.77, 0.05, 0.03]\n",
        "eye_color = npr.choice(colors, size=1000, p=frequencies)\n",
        "sns.countplot(x=eye_color)\n",
        "plt.show()"
      ]
    },
    {
      "cell_type": "code",
      "execution_count": 10,
      "id": "264ad0cd",
      "metadata": {
        "id": "264ad0cd"
      },
      "outputs": [],
      "source": [
        "def laplace_mechanism(original_values, epsilon=1e-5, sensitivity=1):\n",
        "    outputs = original_values + npr.laplace(scale = sensitivity/epsilon, loc=0, size=len(original_values))\n",
        "    return outputs"
      ]
    },
    {
      "cell_type": "code",
      "source": [
        "# Calculate true counts of eye colors\n",
        "true_counts = [list(eye_color).count(color) for color in colors]\n",
        "\n",
        "# Apply Laplace Mechanism\n",
        "epsilon = 0.1  # Adjust the privacy budget\n",
        "noisy_counts = laplace_mechanism(np.array(true_counts), epsilon=epsilon)\n",
        "\n",
        "# Visualize the noisy counts\n",
        "sns.barplot(x=colors, y=noisy_counts)\n",
        "plt.title(\"Noisy Eye Color Counts with Laplace Mechanism\")\n",
        "plt.show()"
      ],
      "metadata": {
        "colab": {
          "base_uri": "https://localhost:8080/",
          "height": 452
        },
        "id": "7xUT0oYAsM6q",
        "outputId": "0f45fe89-0227-46e6-cd61-2dce3ae12103"
      },
      "id": "7xUT0oYAsM6q",
      "execution_count": 11,
      "outputs": [
        {
          "output_type": "display_data",
          "data": {
            "text/plain": [
              "<Figure size 640x480 with 1 Axes>"
            ],
            "image/png": "[encoded data removed]"
          },
          "metadata": {}
        }
      ]
    },
    {
      "cell_type": "markdown",
      "id": "6b656a50",
      "metadata": {
        "id": "6b656a50"
      },
      "source": [
        "## COUNT QUERIES"
      ]
    },
    {
      "cell_type": "code",
      "execution_count": 12,
      "id": "e46e2868",
      "metadata": {
        "colab": {
          "base_uri": "https://localhost:8080/"
        },
        "id": "e46e2868",
        "outputId": "5be02e36-36ff-4e38-989c-aadb9915719f"
      },
      "outputs": [
        {
          "output_type": "stream",
          "name": "stdout",
          "text": [
            "original [76] - observed [74.54071016]\n"
          ]
        }
      ],
      "source": [
        "blue_eyes = [len(np.where(eye_color=='blue')[0])]\n",
        "epsilon = 1\n",
        "print(f\"original {blue_eyes} - observed {laplace_mechanism(blue_eyes, epsilon)}\")"
      ]
    },
    {
      "cell_type": "code",
      "execution_count": 13,
      "id": "17839de5",
      "metadata": {
        "colab": {
          "base_uri": "https://localhost:8080/"
        },
        "id": "17839de5",
        "outputId": "f660b0a7-f169-4f0c-ba44-83c5a0cd58e1"
      },
      "outputs": [
        {
          "output_type": "stream",
          "name": "stdout",
          "text": [
            "probability of having an error bigger than 5.991: 0.050 -- expected <= 0.05\n"
          ]
        }
      ],
      "source": [
        "blue_eyes = [len(np.where(eye_color=='blue')[0])]\n",
        "sensitivity = 1 #what is the sensitivity of a count query\n",
        "delta = 0.05\n",
        "epsilon = 0.5\n",
        "query_dimension = len(blue_eyes)\n",
        "exp_samples = 100000\n",
        "\n",
        "ratio = np.log(query_dimension/delta)*(sensitivity/epsilon)\n",
        "errors = [np.abs((blue_eyes-laplace_mechanism(blue_eyes, epsilon)))>=ratio for i in range(exp_samples)]\n",
        "print(f\"probability of having an error bigger than {ratio:.3f}: {np.sum(errors)/len(errors):.3f} -- expected <= {delta}\")"
      ]
    },
    {
      "cell_type": "markdown",
      "id": "f8eb7e91",
      "metadata": {
        "id": "f8eb7e91"
      },
      "source": [
        "## HISTOGRAM QUERIES"
      ]
    },
    {
      "cell_type": "code",
      "execution_count": 14,
      "id": "29459e55",
      "metadata": {
        "colab": {
          "base_uri": "https://localhost:8080/"
        },
        "id": "29459e55",
        "outputId": "e724d94e-c7ef-4c92-ce11-94b5e6f84f3f"
      },
      "outputs": [
        {
          "output_type": "stream",
          "name": "stdout",
          "text": [
            "original [ 50  76 776  19  26  53] - observed [ 140.77980404  198.6842963   839.36982597  -47.08728768 -218.02707512\n",
            "  -33.4333775 ]\n"
          ]
        }
      ],
      "source": [
        "_, histogram = np.unique(eye_color, return_counts=True)\n",
        "epsilon = 0.005\n",
        "perturbedHistogram = laplace_mechanism(histogram, epsilon)\n",
        "\n",
        "print(f\"original {histogram} - observed {perturbedHistogram}\")"
      ]
    },
    {
      "cell_type": "code",
      "source": [
        "import matplotlib.pyplot as plt\n",
        "plt.bar(colors, histogram, alpha=0.5, label=\"Original\")\n",
        "plt.bar(colors, perturbedHistogram, alpha=0.5, label=\"Noisy\")\n",
        "plt.legend()\n",
        "plt.title(\"Original vs Noisy Histogram\")\n",
        "plt.show()"
      ],
      "metadata": {
        "colab": {
          "base_uri": "https://localhost:8080/",
          "height": 452
        },
        "id": "lgzlwgT3aNQI",
        "outputId": "df1b4da2-3197-4dfd-8467-963d979f8cc7"
      },
      "id": "lgzlwgT3aNQI",
      "execution_count": 15,
      "outputs": [
        {
          "output_type": "display_data",
          "data": {
            "text/plain": [
              "<Figure size 640x480 with 1 Axes>"
            ],
            "image/png": "[encoded data removed]"
          },
          "metadata": {}
        }
      ]
    },
    {
      "cell_type": "code",
      "execution_count": 16,
      "id": "de3e3cca",
      "metadata": {
        "colab": {
          "base_uri": "https://localhost:8080/"
        },
        "id": "de3e3cca",
        "outputId": "3b474906-ca44-4ca5-86a4-bf23a2d45d61"
      },
      "outputs": [
        {
          "output_type": "stream",
          "name": "stdout",
          "text": [
            "probability of having an error bigger than 95.750: 0.049 -- expected <= 0.05\n"
          ]
        }
      ],
      "source": [
        "sensitivity = 1\n",
        "query_dimension = len(histogram)\n",
        "epsilon = 0.05\n",
        "delta = 0.05\n",
        "ratio = np.log(query_dimension/delta)*(sensitivity/epsilon)\n",
        "\n",
        "errors = [np.max(np.abs(laplace_mechanism(histogram, epsilon)-histogram))>=ratio for i in range(exp_samples)]\n",
        "\n",
        "print(f\"probability of having an error bigger than {ratio:.3f}: {np.sum(errors)/len(errors):.3f} -- expected <= {delta}\")"
      ]
    },
    {
      "cell_type": "markdown",
      "id": "d6e20954",
      "metadata": {
        "id": "d6e20954"
      },
      "source": [
        "## REPORT NOISY MAX"
      ]
    },
    {
      "cell_type": "code",
      "execution_count": 17,
      "id": "39a5f94d",
      "metadata": {
        "colab": {
          "base_uri": "https://localhost:8080/",
          "height": 36
        },
        "id": "39a5f94d",
        "outputId": "23112da3-6291-43ba-d88e-31e6aa88b3ae"
      },
      "outputs": [
        {
          "output_type": "execute_result",
          "data": {
            "text/plain": [
              "'brown'"
            ],
            "application/vnd.google.colaboratory.intrinsic+json": {
              "type": "string"
            }
          },
          "metadata": {},
          "execution_count": 17
        }
      ],
      "source": [
        "def report_noisy_max(dataset, epsilon=1):\n",
        "    labels, counts = np.unique(dataset, return_counts=True)\n",
        "    noisy_max = np.argmax(laplace_mechanism(counts, epsilon))\n",
        "    return labels[noisy_max]\n",
        "\n",
        "epsilon = 0.05\n",
        "report_noisy_max(eye_color, epsilon)"
      ]
    },
    {
      "cell_type": "markdown",
      "id": "d22afbbd",
      "metadata": {
        "id": "d22afbbd"
      },
      "source": [
        "# EXPONENTIAL MECHANISM"
      ]
    },
    {
      "cell_type": "code",
      "execution_count": 18,
      "id": "746dcb98",
      "metadata": {
        "id": "746dcb98"
      },
      "outputs": [],
      "source": [
        "#private bids\n",
        "private_bids = [0.41, 0.1, 0.1, 0.1]\n",
        "\n",
        "#possible prices\n",
        "R_size = 101\n",
        "R = [round(r, 2) for r in np.linspace(0,1, R_size)] #just to avoid numerical errors\n"
      ]
    },
    {
      "cell_type": "code",
      "execution_count": 19,
      "id": "3580e6cf",
      "metadata": {
        "id": "3580e6cf"
      },
      "outputs": [],
      "source": [
        "def utility(R, bids):\n",
        "    #define the utility values that can be observed, given the prices and the bids\n",
        "    utilities = []\n",
        "\n",
        "    #put here the computation of the utility\n",
        "    for p in R:\n",
        "        utilities.append(p*len([b for b in bids if b>=p]))\n",
        "    return np.array(utilities)"
      ]
    },
    {
      "cell_type": "code",
      "execution_count": 20,
      "id": "1cfa639b",
      "metadata": {
        "id": "1cfa639b"
      },
      "outputs": [],
      "source": [
        "perturbed_utils = []\n",
        "true_utility = utility(R, private_bids)\n",
        "for i in range(len(private_bids)):\n",
        "    perturbed_utils.append(utility(R, private_bids[:i]+private_bids[i+1:]))\n",
        "perturbed_utils.append(utility(R, [1]+private_bids))\n",
        "\n",
        "sensitivity = np.max([np.max(np.abs(true_utility-pu)) for pu in perturbed_utils])\n"
      ]
    },
    {
      "cell_type": "code",
      "execution_count": 21,
      "id": "8bd7e31c",
      "metadata": {
        "id": "8bd7e31c"
      },
      "outputs": [],
      "source": [
        "def exponential_mechanism(R, true_utility, sensitivity, epsilon=0.5):\n",
        "\n",
        "    probabilities = np.exp(true_utility*(epsilon/(2*sensitivity)))\n",
        "    probabilities /= np.sum(probabilities)\n",
        "    output = npr.choice(R, p=probabilities)\n",
        "\n",
        "    return output, probabilities\n"
      ]
    },
    {
      "cell_type": "code",
      "execution_count": 22,
      "id": "a35d656d",
      "metadata": {
        "id": "a35d656d",
        "colab": {
          "base_uri": "https://localhost:8080/",
          "height": 522
        },
        "outputId": "62f37d2a-bf25-45ff-926b-13db3d4abf9f"
      },
      "outputs": [
        {
          "output_type": "display_data",
          "data": {
            "text/plain": [
              "<Figure size 1400x500 with 2 Axes>"
            ],
            "image/png": "[encoded data removed]"
          },
          "metadata": {}
        },
        {
          "output_type": "stream",
          "name": "stdout",
          "text": [
            "best price: 0.41 - optimal utility: 0.41\n",
            "output value: 0.27 - revenue: 0.27\n"
          ]
        }
      ],
      "source": [
        "epsilon = 10\n",
        "\n",
        "\n",
        "sampled_price, probabilities = exponential_mechanism(R, true_utility, sensitivity, epsilon)\n",
        "\n",
        "\n",
        "\n",
        "fig, (ax1, ax2) = plt.subplots(1, 2, figsize=(14, 5))\n",
        "\n",
        "\n",
        "\n",
        "ax1.set(title = \"true revenue\", xlabel = \"price\", ylabel = \"revenue\")\n",
        "ax1.scatter(R, true_utility)\n",
        "\n",
        "\n",
        "ax2.set(title = \"output probability\", xlabel = \"price\", ylabel = \"probability\")\n",
        "ax2.scatter(R, probabilities)\n",
        "plt.show()\n",
        "\n",
        "revenue = utility([sampled_price], private_bids)[0]\n",
        "optimal_revenue = true_utility[np.argmax(true_utility)]\n",
        "print(f\"best price: {R[np.argmax(true_utility)]} - optimal utility: {optimal_revenue:.2f}\")\n",
        "print(f\"output value: {sampled_price:.2f} - revenue: {revenue:.2f}\");"
      ]
    },
    {
      "cell_type": "code",
      "execution_count": 23,
      "id": "e4010094",
      "metadata": {
        "id": "e4010094",
        "colab": {
          "base_uri": "https://localhost:8080/"
        },
        "outputId": "8379c5c7-3e9b-48d5-c07e-3a7dc4ca8e7d"
      },
      "outputs": [
        {
          "output_type": "stream",
          "name": "stdout",
          "text": [
            "probability of having an error bigger than 1.52 0.000 <= 0.05\n"
          ]
        }
      ],
      "source": [
        "t = 3 #gives ~0.05 of probability\n",
        "epsilon = 10\n",
        "Ropt_size=1\n",
        "\n",
        "max_error = (2*sensitivity/epsilon*(np.log(R_size/Ropt_size)+t))\n",
        "acceptable_value = optimal_revenue - max_error\n",
        "exp_samples = 1000\n",
        "errors = []\n",
        "for e in range(exp_samples):\n",
        "    r, _ = exponential_mechanism(R, true_utility, sensitivity, epsilon)\n",
        "    observed_utility = utility([r], private_bids)[0]\n",
        "    errors.append(observed_utility<=acceptable_value)\n",
        "\n",
        "print(f\"probability of having an error bigger than {max_error:.2f} {np.sum(errors)/len(errors):.3f} <= {np.exp(-t):.2f}\")"
      ]
    },
    {
      "cell_type": "markdown",
      "id": "42781db6",
      "metadata": {
        "id": "42781db6"
      },
      "source": [
        "# SEQUENTIAL COMPOSITION"
      ]
    },
    {
      "cell_type": "code",
      "source": [
        "heartdf = pd.read_csv(\"heart.csv\")"
      ],
      "metadata": {
        "id": "VSGkE3Z4FA37"
      },
      "id": "VSGkE3Z4FA37",
      "execution_count": 24,
      "outputs": []
    },
    {
      "cell_type": "code",
      "execution_count": 25,
      "id": "4250d329",
      "metadata": {
        "id": "4250d329",
        "colab": {
          "base_uri": "https://localhost:8080/"
        },
        "outputId": "8a8131e7-332a-49a2-a127-dfeadf1da15e"
      },
      "outputs": [
        {
          "output_type": "stream",
          "name": "stdout",
          "text": [
            "The protected value is 3.0654736642415976 ... probably not 15\n"
          ]
        }
      ],
      "source": [
        "def laplace_mechanism(original_values, epsilon=1e-5, sensitivity=1):\n",
        "    \"\"\"\n",
        "    Applies the Laplace mechanism to either a single value or an array of values.\n",
        "    \"\"\"\n",
        "    if np.isscalar(original_values):\n",
        "        noise = np.random.laplace(scale=sensitivity/epsilon)\n",
        "        return original_values + noise\n",
        "    else:\n",
        "        outputs = original_values + np.random.laplace(scale=sensitivity/epsilon, size=len(original_values))\n",
        "        return outputs\n",
        "\n",
        "\n",
        "real_count = (heartdf[\"trtbps\"] > 160).sum()\n",
        "epsilon = 0.1\n",
        "protected_value = laplace_mechanism(real_count, epsilon)\n",
        "\n",
        "print(f\"The protected value is {protected_value} ... probably not {real_count}\")"
      ]
    },
    {
      "cell_type": "code",
      "execution_count": 26,
      "id": "ff9a9842",
      "metadata": {
        "id": "ff9a9842",
        "colab": {
          "base_uri": "https://localhost:8080/",
          "height": 564
        },
        "outputId": "729d125d-9052-43d0-e349-6975951ba1ac"
      },
      "outputs": [
        {
          "output_type": "display_data",
          "data": {
            "text/plain": [
              "<Figure size 1000x600 with 1 Axes>"
            ],
            "image/png": "[encoded data removed]"
          },
          "metadata": {}
        }
      ],
      "source": [
        "replicates = 1000000\n",
        "responses = [laplace_mechanism(real_count, epsilon) for _ in range(replicates)]\n",
        "\n",
        "plt.figure(figsize=(10, 6))\n",
        "plt.hist(responses, alpha=0.6, bins=50, density=True, color=\"skyblue\", label=\"Noisy Responses\")\n",
        "\n",
        "plt.axvline(real_count, color='red', linestyle='--', linewidth=1.5, label=\"Real Count\")\n",
        "plt.title(f\"Spread of Noisy Counts: Mean={np.mean(responses):.4f}, Std Dev={np.std(responses):.4f}\")\n",
        "plt.xlabel(\"Noisy Count\")\n",
        "plt.ylabel(\"Density\")\n",
        "plt.legend(loc=\"upper right\")\n",
        "plt.show()"
      ]
    },
    {
      "cell_type": "markdown",
      "id": "901c54b8",
      "metadata": {
        "id": "901c54b8"
      },
      "source": [
        "Assume you have a $\\varepsilon_1$ differentially private Laplace mechanism and a second mechanism wich is $\\varepsilon_2$ differentially private"
      ]
    },
    {
      "cell_type": "code",
      "execution_count": 27,
      "id": "e294b605",
      "metadata": {
        "id": "e294b605",
        "colab": {
          "base_uri": "https://localhost:8080/",
          "height": 430
        },
        "outputId": "ef7d67bf-aba3-4836-bbd1-de66c410b22a"
      },
      "outputs": [
        {
          "output_type": "display_data",
          "data": {
            "text/plain": [
              "<Figure size 640x480 with 1 Axes>"
            ],
            "image/png": "[encoded data removed]"
          },
          "metadata": {}
        }
      ],
      "source": [
        "epsilon1 = 1\n",
        "epsilon2 = 1\n",
        "l1 = npr.laplace(scale = 1/epsilon1, loc=0, size=10000)\n",
        "plt.hist(l1, bins=100, alpha=0.5, density=True)\n",
        "l2 = npr.laplace(scale = 1/epsilon2, loc=0, size=10000)\n",
        "plt.hist(l2, bins=100, alpha=0.5, density=True)\n",
        "plt.legend([\"m1\", \"m2\"])\n",
        "plt.show()"
      ]
    },
    {
      "cell_type": "markdown",
      "id": "c46ab092",
      "metadata": {
        "id": "c46ab092"
      },
      "source": [
        "What happens if we combine the two mechanisms?"
      ]
    },
    {
      "cell_type": "code",
      "execution_count": 28,
      "id": "707df24d",
      "metadata": {
        "id": "707df24d",
        "colab": {
          "base_uri": "https://localhost:8080/",
          "height": 430
        },
        "outputId": "a7366161-3a73-4b83-f6a7-42d2a6c76c99"
      },
      "outputs": [
        {
          "output_type": "display_data",
          "data": {
            "text/plain": [
              "<Figure size 640x480 with 1 Axes>"
            ],
            "image/png": "[encoded data removed]"
          },
          "metadata": {}
        }
      ],
      "source": [
        "plt.hist(l1, bins=100,alpha=0.5, density=True)\n",
        "plt.hist(l2, bins=100,alpha=0.5, density=True)\n",
        "plt.hist((l1+l2)/2, bins=100,alpha=0.5, density=True)\n",
        "plt.legend([\"m1\", \"m2\", \"m1 and m2\"])\n",
        "\n",
        "plt.show()"
      ]
    },
    {
      "cell_type": "code",
      "execution_count": 29,
      "id": "2fb88226",
      "metadata": {
        "scrolled": true,
        "id": "2fb88226",
        "colab": {
          "base_uri": "https://localhost:8080/",
          "height": 430
        },
        "outputId": "105e07ad-8a64-4cf8-daae-06317a527a88"
      },
      "outputs": [
        {
          "output_type": "display_data",
          "data": {
            "text/plain": [
              "<Figure size 640x480 with 1 Axes>"
            ],
            "image/png": "[encoded data removed]"
          },
          "metadata": {}
        }
      ],
      "source": [
        "plt.hist(npr.laplace(scale = 1/(epsilon1+epsilon2), loc=0, size=10000), bins=50,alpha=0.5)\n",
        "plt.hist((l1+l2)/2, bins=50,alpha=0.5)\n",
        "plt.legend([\"e1+e2\", \"m1 and m2\"])\n",
        "plt.show()"
      ]
    },
    {
      "cell_type": "markdown",
      "source": [
        "<h5>We can see from the plot above that the orange one with the noise is broader than the one without noise</h5>"
      ],
      "metadata": {
        "id": "tUWhEWS2O8hL"
      },
      "id": "tUWhEWS2O8hL"
    },
    {
      "cell_type": "markdown",
      "id": "848b509b",
      "metadata": {
        "id": "848b509b"
      },
      "source": [
        "# SPARSE VECTOR"
      ]
    },
    {
      "cell_type": "markdown",
      "source": [
        "<h5> This code implements a differential privacy mechanism for answering threshold-based queries on a dataset using the Laplace Mechanism. It determines whether queries on data exceed a noisy threhold while preserving privacy</h5>"
      ],
      "metadata": {
        "id": "TO5rYyRIDG7W"
      },
      "id": "TO5rYyRIDG7W"
    },
    {
      "cell_type": "code",
      "source": [
        "heartdf = pd.read_csv(\"heart.csv\")\n",
        "\n",
        "heartdf"
      ],
      "metadata": {
        "colab": {
          "base_uri": "https://localhost:8080/",
          "height": 423
        },
        "id": "MAGOuxOlKUtd",
        "outputId": "a3ef6aac-6f70-4f5f-94e9-69ff752994cb"
      },
      "id": "MAGOuxOlKUtd",
      "execution_count": 30,
      "outputs": [
        {
          "output_type": "execute_result",
          "data": {
            "text/plain": [
              "     age  sex  cp  trtbps  chol  fbs  restecg  thalachh  exng  oldpeak  slp  \\\n",
              "0     63    1   3     145   233    1        0       150     0      2.3    0   \n",
              "1     37    1   2     130   250    0        1       187     0      3.5    0   \n",
              "2     41    0   1     130   204    0        0       172     0      1.4    2   \n",
              "3     56    1   1     120   236    0        1       178     0      0.8    2   \n",
              "4     57    0   0     120   354    0        1       163     1      0.6    2   \n",
              "..   ...  ...  ..     ...   ...  ...      ...       ...   ...      ...  ...   \n",
              "298   57    0   0     140   241    0        1       123     1      0.2    1   \n",
              "299   45    1   3     110   264    0        1       132     0      1.2    1   \n",
              "300   68    1   0     144   193    1        1       141     0      3.4    1   \n",
              "301   57    1   0     130   131    0        1       115     1      1.2    1   \n",
              "302   57    0   1     130   236    0        0       174     0      0.0    1   \n",
              "\n",
              "     caa  thall  output  \n",
              "0      0      1       1  \n",
              "1      0      2       1  \n",
              "2      0      2       1  \n",
              "3      0      2       1  \n",
              "4      0      2       1  \n",
              "..   ...    ...     ...  \n",
              "298    0      3       0  \n",
              "299    0      3       0  \n",
              "300    2      3       0  \n",
              "301    1      3       0  \n",
              "302    1      2       0  \n",
              "\n",
              "[303 rows x 14 columns]"
            ],
            "text/html": [
              "\n",
              "  <div id=\"df-8670dd11-465a-4c7a-b6e9-85d7026e8182\" class=\"colab-df-container\">\n",
              "    <div>\n",
              "<style scoped>\n",
              "    .dataframe tbody tr th:only-of-type {\n",
              "        vertical-align: middle;\n",
              "    }\n",
              "\n",
              "    .dataframe tbody tr th {\n",
              "        vertical-align: top;\n",
              "    }\n",
              "\n",
              "    .dataframe thead th {\n",
              "        text-align: right;\n",
              "    }\n",
              "</style>\n",
              "<table border=\"1\" class=\"dataframe\">\n",
              "  <thead>\n",
              "    <tr style=\"text-align: right;\">\n",
              "      <th></th>\n",
              "      <th>age</th>\n",
              "      <th>sex</th>\n",
              "      <th>cp</th>\n",
              "      <th>trtbps</th>\n",
              "      <th>chol</th>\n",
              "      <th>fbs</th>\n",
              "      <th>restecg</th>\n",
              "      <th>thalachh</th>\n",
              "      <th>exng</th>\n",
              "      <th>oldpeak</th>\n",
              "      <th>slp</th>\n",
              "      <th>caa</th>\n",
              "      <th>thall</th>\n",
              "      <th>output</th>\n",
              "    </tr>\n",
              "  </thead>\n",
              "  <tbody>\n",
              "    <tr>\n",
              "      <th>0</th>\n",
              "      <td>63</td>\n",
              "      <td>1</td>\n",
              "      <td>3</td>\n",
              "      <td>145</td>\n",
              "      <td>233</td>\n",
              "      <td>1</td>\n",
              "      <td>0</td>\n",
              "      <td>150</td>\n",
              "      <td>0</td>\n",
              "      <td>2.3</td>\n",
              "      <td>0</td>\n",
              "      <td>0</td>\n",
              "      <td>1</td>\n",
              "      <td>1</td>\n",
              "    </tr>\n",
              "    <tr>\n",
              "      <th>1</th>\n",
              "      <td>37</td>\n",
              "      <td>1</td>\n",
              "      <td>2</td>\n",
              "      <td>130</td>\n",
              "      <td>250</td>\n",
              "      <td>0</td>\n",
              "      <td>1</td>\n",
              "      <td>187</td>\n",
              "      <td>0</td>\n",
              "      <td>3.5</td>\n",
              "      <td>0</td>\n",
              "      <td>0</td>\n",
              "      <td>2</td>\n",
              "      <td>1</td>\n",
              "    </tr>\n",
              "    <tr>\n",
              "      <th>2</th>\n",
              "      <td>41</td>\n",
              "      <td>0</td>\n",
              "      <td>1</td>\n",
              "      <td>130</td>\n",
              "      <td>204</td>\n",
              "      <td>0</td>\n",
              "      <td>0</td>\n",
              "      <td>172</td>\n",
              "      <td>0</td>\n",
              "      <td>1.4</td>\n",
              "      <td>2</td>\n",
              "      <td>0</td>\n",
              "      <td>2</td>\n",
              "      <td>1</td>\n",
              "    </tr>\n",
              "    <tr>\n",
              "      <th>3</th>\n",
              "      <td>56</td>\n",
              "      <td>1</td>\n",
              "      <td>1</td>\n",
              "      <td>120</td>\n",
              "      <td>236</td>\n",
              "      <td>0</td>\n",
              "      <td>1</td>\n",
              "      <td>178</td>\n",
              "      <td>0</td>\n",
              "      <td>0.8</td>\n",
              "      <td>2</td>\n",
              "      <td>0</td>\n",
              "      <td>2</td>\n",
              "      <td>1</td>\n",
              "    </tr>\n",
              "    <tr>\n",
              "      <th>4</th>\n",
              "      <td>57</td>\n",
              "      <td>0</td>\n",
              "      <td>0</td>\n",
              "      <td>120</td>\n",
              "      <td>354</td>\n",
              "      <td>0</td>\n",
              "      <td>1</td>\n",
              "      <td>163</td>\n",
              "      <td>1</td>\n",
              "      <td>0.6</td>\n",
              "      <td>2</td>\n",
              "      <td>0</td>\n",
              "      <td>2</td>\n",
              "      <td>1</td>\n",
              "    </tr>\n",
              "    <tr>\n",
              "      <th>...</th>\n",
              "      <td>...</td>\n",
              "      <td>...</td>\n",
              "      <td>...</td>\n",
              "      <td>...</td>\n",
              "      <td>...</td>\n",
              "      <td>...</td>\n",
              "      <td>...</td>\n",
              "      <td>...</td>\n",
              "      <td>...</td>\n",
              "      <td>...</td>\n",
              "      <td>...</td>\n",
              "      <td>...</td>\n",
              "      <td>...</td>\n",
              "      <td>...</td>\n",
              "    </tr>\n",
              "    <tr>\n",
              "      <th>298</th>\n",
              "      <td>57</td>\n",
              "      <td>0</td>\n",
              "      <td>0</td>\n",
              "      <td>140</td>\n",
              "      <td>241</td>\n",
              "      <td>0</td>\n",
              "      <td>1</td>\n",
              "      <td>123</td>\n",
              "      <td>1</td>\n",
              "      <td>0.2</td>\n",
              "      <td>1</td>\n",
              "      <td>0</td>\n",
              "      <td>3</td>\n",
              "      <td>0</td>\n",
              "    </tr>\n",
              "    <tr>\n",
              "      <th>299</th>\n",
              "      <td>45</td>\n",
              "      <td>1</td>\n",
              "      <td>3</td>\n",
              "      <td>110</td>\n",
              "      <td>264</td>\n",
              "      <td>0</td>\n",
              "      <td>1</td>\n",
              "      <td>132</td>\n",
              "      <td>0</td>\n",
              "      <td>1.2</td>\n",
              "      <td>1</td>\n",
              "      <td>0</td>\n",
              "      <td>3</td>\n",
              "      <td>0</td>\n",
              "    </tr>\n",
              "    <tr>\n",
              "      <th>300</th>\n",
              "      <td>68</td>\n",
              "      <td>1</td>\n",
              "      <td>0</td>\n",
              "      <td>144</td>\n",
              "      <td>193</td>\n",
              "      <td>1</td>\n",
              "      <td>1</td>\n",
              "      <td>141</td>\n",
              "      <td>0</td>\n",
              "      <td>3.4</td>\n",
              "      <td>1</td>\n",
              "      <td>2</td>\n",
              "      <td>3</td>\n",
              "      <td>0</td>\n",
              "    </tr>\n",
              "    <tr>\n",
              "      <th>301</th>\n",
              "      <td>57</td>\n",
              "      <td>1</td>\n",
              "      <td>0</td>\n",
              "      <td>130</td>\n",
              "      <td>131</td>\n",
              "      <td>0</td>\n",
              "      <td>1</td>\n",
              "      <td>115</td>\n",
              "      <td>1</td>\n",
              "      <td>1.2</td>\n",
              "      <td>1</td>\n",
              "      <td>1</td>\n",
              "      <td>3</td>\n",
              "      <td>0</td>\n",
              "    </tr>\n",
              "    <tr>\n",
              "      <th>302</th>\n",
              "      <td>57</td>\n",
              "      <td>0</td>\n",
              "      <td>1</td>\n",
              "      <td>130</td>\n",
              "      <td>236</td>\n",
              "      <td>0</td>\n",
              "      <td>0</td>\n",
              "      <td>174</td>\n",
              "      <td>0</td>\n",
              "      <td>0.0</td>\n",
              "      <td>1</td>\n",
              "      <td>1</td>\n",
              "      <td>2</td>\n",
              "      <td>0</td>\n",
              "    </tr>\n",
              "  </tbody>\n",
              "</table>\n",
              "<p>303 rows × 14 columns</p>\n",
              "</div>\n",
              "    <div class=\"colab-df-buttons\">\n",
              "\n",
              "  <div class=\"colab-df-container\">\n",
              "    <button class=\"colab-df-convert\" onclick=\"convertToInteractive('df-8670dd11-465a-4c7a-b6e9-85d7026e8182')\"\n",
              "            title=\"Convert this dataframe to an interactive table.\"\n",
              "            style=\"display:none;\">\n",
              "\n",
              "  <svg xmlns=\"http://www.w3.org/2000/svg\" height=\"24px\" viewBox=\"0 -960 960 960\">\n",
              "    <path d=\"M120-120v-720h720v720H120Zm60-500h600v-160H180v160Zm220 220h160v-160H400v160Zm0 220h160v-160H400v160ZM180-400h160v-160H180v160Zm440 0h160v-160H620v160ZM180-180h160v-160H180v160Zm440 0h160v-160H620v160Z\"/>\n",
              "  </svg>\n",
              "    </button>\n",
              "\n",
              "  <style>\n",
              "    .colab-df-container {\n",
              "      display:flex;\n",
              "      gap: 12px;\n",
              "    }\n",
              "\n",
              "    .colab-df-convert {\n",
              "      background-color: #E8F0FE;\n",
              "      border: none;\n",
              "      border-radius: 50%;\n",
              "      cursor: pointer;\n",
              "      display: none;\n",
              "      fill: #1967D2;\n",
              "      height: 32px;\n",
              "      padding: 0 0 0 0;\n",
              "      width: 32px;\n",
              "    }\n",
              "\n",
              "    .colab-df-convert:hover {\n",
              "      background-color: #E2EBFA;\n",
              "      box-shadow: 0px 1px 2px rgba(60, 64, 67, 0.3), 0px 1px 3px 1px rgba(60, 64, 67, 0.15);\n",
              "      fill: #174EA6;\n",
              "    }\n",
              "\n",
              "    .colab-df-buttons div {\n",
              "      margin-bottom: 4px;\n",
              "    }\n",
              "\n",
              "    [theme=dark] .colab-df-convert {\n",
              "      background-color: #3B4455;\n",
              "      fill: #D2E3FC;\n",
              "    }\n",
              "\n",
              "    [theme=dark] .colab-df-convert:hover {\n",
              "      background-color: #434B5C;\n",
              "      box-shadow: 0px 1px 3px 1px rgba(0, 0, 0, 0.15);\n",
              "      filter: drop-shadow(0px 1px 2px rgba(0, 0, 0, 0.3));\n",
              "      fill: #FFFFFF;\n",
              "    }\n",
              "  </style>\n",
              "\n",
              "    <script>\n",
              "      const buttonEl =\n",
              "        document.querySelector('#df-8670dd11-465a-4c7a-b6e9-85d7026e8182 button.colab-df-convert');\n",
              "      buttonEl.style.display =\n",
              "        google.colab.kernel.accessAllowed ? 'block' : 'none';\n",
              "\n",
              "      async function convertToInteractive(key) {\n",
              "        const element = document.querySelector('#df-8670dd11-465a-4c7a-b6e9-85d7026e8182');\n",
              "        const dataTable =\n",
              "          await google.colab.kernel.invokeFunction('convertToInteractive',\n",
              "                                                    [key], {});\n",
              "        if (!dataTable) return;\n",
              "\n",
              "        const docLinkHtml = 'Like what you see? Visit the ' +\n",
              "          '<a target=\"_blank\" href=https://colab.research.google.com/notebooks/data_table.ipynb>data table notebook</a>'\n",
              "          + ' to learn more about interactive tables.';\n",
              "        element.innerHTML = '';\n",
              "        dataTable['output_type'] = 'display_data';\n",
              "        await google.colab.output.renderOutput(dataTable, element);\n",
              "        const docLink = document.createElement('div');\n",
              "        docLink.innerHTML = docLinkHtml;\n",
              "        element.appendChild(docLink);\n",
              "      }\n",
              "    </script>\n",
              "  </div>\n",
              "\n",
              "\n",
              "<div id=\"df-8a6302b7-21bc-444b-bdb8-d3f22dfedc17\">\n",
              "  <button class=\"colab-df-quickchart\" onclick=\"quickchart('df-8a6302b7-21bc-444b-bdb8-d3f22dfedc17')\"\n",
              "            title=\"Suggest charts\"\n",
              "            style=\"display:none;\">\n",
              "\n",
              "<svg xmlns=\"http://www.w3.org/2000/svg\" height=\"24px\"viewBox=\"0 0 24 24\"\n",
              "     width=\"24px\">\n",
              "    <g>\n",
              "        <path d=\"M19 3H5c-1.1 0-2 .9-2 2v14c0 1.1.9 2 2 2h14c1.1 0 2-.9 2-2V5c0-1.1-.9-2-2-2zM9 17H7v-7h2v7zm4 0h-2V7h2v10zm4 0h-2v-4h2v4z\"/>\n",
              "    </g>\n",
              "</svg>\n",
              "  </button>\n",
              "\n",
              "<style>\n",
              "  .colab-df-quickchart {\n",
              "      --bg-color: #E8F0FE;\n",
              "      --fill-color: #1967D2;\n",
              "      --hover-bg-color: #E2EBFA;\n",
              "      --hover-fill-color: #174EA6;\n",
              "      --disabled-fill-color: #AAA;\n",
              "      --disabled-bg-color: #DDD;\n",
              "  }\n",
              "\n",
              "  [theme=dark] .colab-df-quickchart {\n",
              "      --bg-color: #3B4455;\n",
              "      --fill-color: #D2E3FC;\n",
              "      --hover-bg-color: #434B5C;\n",
              "      --hover-fill-color: #FFFFFF;\n",
              "      --disabled-bg-color: #3B4455;\n",
              "      --disabled-fill-color: #666;\n",
              "  }\n",
              "\n",
              "  .colab-df-quickchart {\n",
              "    background-color: var(--bg-color);\n",
              "    border: none;\n",
              "    border-radius: 50%;\n",
              "    cursor: pointer;\n",
              "    display: none;\n",
              "    fill: var(--fill-color);\n",
              "    height: 32px;\n",
              "    padding: 0;\n",
              "    width: 32px;\n",
              "  }\n",
              "\n",
              "  .colab-df-quickchart:hover {\n",
              "    background-color: var(--hover-bg-color);\n",
              "    box-shadow: 0 1px 2px rgba(60, 64, 67, 0.3), 0 1px 3px 1px rgba(60, 64, 67, 0.15);\n",
              "    fill: var(--button-hover-fill-color);\n",
              "  }\n",
              "\n",
              "  .colab-df-quickchart-complete:disabled,\n",
              "  .colab-df-quickchart-complete:disabled:hover {\n",
              "    background-color: var(--disabled-bg-color);\n",
              "    fill: var(--disabled-fill-color);\n",
              "    box-shadow: none;\n",
              "  }\n",
              "\n",
              "  .colab-df-spinner {\n",
              "    border: 2px solid var(--fill-color);\n",
              "    border-color: transparent;\n",
              "    border-bottom-color: var(--fill-color);\n",
              "    animation:\n",
              "      spin 1s steps(1) infinite;\n",
              "  }\n",
              "\n",
              "  @keyframes spin {\n",
              "    0% {\n",
              "      border-color: transparent;\n",
              "      border-bottom-color: var(--fill-color);\n",
              "      border-left-color: var(--fill-color);\n",
              "    }\n",
              "    20% {\n",
              "      border-color: transparent;\n",
              "      border-left-color: var(--fill-color);\n",
              "      border-top-color: var(--fill-color);\n",
              "    }\n",
              "    30% {\n",
              "      border-color: transparent;\n",
              "      border-left-color: var(--fill-color);\n",
              "      border-top-color: var(--fill-color);\n",
              "      border-right-color: var(--fill-color);\n",
              "    }\n",
              "    40% {\n",
              "      border-color: transparent;\n",
              "      border-right-color: var(--fill-color);\n",
              "      border-top-color: var(--fill-color);\n",
              "    }\n",
              "    60% {\n",
              "      border-color: transparent;\n",
              "      border-right-color: var(--fill-color);\n",
              "    }\n",
              "    80% {\n",
              "      border-color: transparent;\n",
              "      border-right-color: var(--fill-color);\n",
              "      border-bottom-color: var(--fill-color);\n",
              "    }\n",
              "    90% {\n",
              "      border-color: transparent;\n",
              "      border-bottom-color: var(--fill-color);\n",
              "    }\n",
              "  }\n",
              "</style>\n",
              "\n",
              "  <script>\n",
              "    async function quickchart(key) {\n",
              "      const quickchartButtonEl =\n",
              "        document.querySelector('#' + key + ' button');\n",
              "      quickchartButtonEl.disabled = true;  // To prevent multiple clicks.\n",
              "      quickchartButtonEl.classList.add('colab-df-spinner');\n",
              "      try {\n",
              "        const charts = await google.colab.kernel.invokeFunction(\n",
              "            'suggestCharts', [key], {});\n",
              "      } catch (error) {\n",
              "        console.error('Error during call to suggestCharts:', error);\n",
              "      }\n",
              "      quickchartButtonEl.classList.remove('colab-df-spinner');\n",
              "      quickchartButtonEl.classList.add('colab-df-quickchart-complete');\n",
              "    }\n",
              "    (() => {\n",
              "      let quickchartButtonEl =\n",
              "        document.querySelector('#df-8a6302b7-21bc-444b-bdb8-d3f22dfedc17 button');\n",
              "      quickchartButtonEl.style.display =\n",
              "        google.colab.kernel.accessAllowed ? 'block' : 'none';\n",
              "    })();\n",
              "  </script>\n",
              "</div>\n",
              "\n",
              "  <div id=\"id_77b69494-df98-4ffd-9473-f77294287819\">\n",
              "    <style>\n",
              "      .colab-df-generate {\n",
              "        background-color: #E8F0FE;\n",
              "        border: none;\n",
              "        border-radius: 50%;\n",
              "        cursor: pointer;\n",
              "        display: none;\n",
              "        fill: #1967D2;\n",
              "        height: 32px;\n",
              "        padding: 0 0 0 0;\n",
              "        width: 32px;\n",
              "      }\n",
              "\n",
              "      .colab-df-generate:hover {\n",
              "        background-color: #E2EBFA;\n",
              "        box-shadow: 0px 1px 2px rgba(60, 64, 67, 0.3), 0px 1px 3px 1px rgba(60, 64, 67, 0.15);\n",
              "        fill: #174EA6;\n",
              "      }\n",
              "\n",
              "      [theme=dark] .colab-df-generate {\n",
              "        background-color: #3B4455;\n",
              "        fill: #D2E3FC;\n",
              "      }\n",
              "\n",
              "      [theme=dark] .colab-df-generate:hover {\n",
              "        background-color: #434B5C;\n",
              "        box-shadow: 0px 1px 3px 1px rgba(0, 0, 0, 0.15);\n",
              "        filter: drop-shadow(0px 1px 2px rgba(0, 0, 0, 0.3));\n",
              "        fill: #FFFFFF;\n",
              "      }\n",
              "    </style>\n",
              "    <button class=\"colab-df-generate\" onclick=\"generateWithVariable('heartdf')\"\n",
              "            title=\"Generate code using this dataframe.\"\n",
              "            style=\"display:none;\">\n",
              "\n",
              "  <svg xmlns=\"http://www.w3.org/2000/svg\" height=\"24px\"viewBox=\"0 0 24 24\"\n",
              "       width=\"24px\">\n",
              "    <path d=\"M7,19H8.4L18.45,9,17,7.55,7,17.6ZM5,21V16.75L18.45,3.32a2,2,0,0,1,2.83,0l1.4,1.43a1.91,1.91,0,0,1,.58,1.4,1.91,1.91,0,0,1-.58,1.4L9.25,21ZM18.45,9,17,7.55Zm-12,3A5.31,5.31,0,0,0,4.9,8.1,5.31,5.31,0,0,0,1,6.5,5.31,5.31,0,0,0,4.9,4.9,5.31,5.31,0,0,0,6.5,1,5.31,5.31,0,0,0,8.1,4.9,5.31,5.31,0,0,0,12,6.5,5.46,5.46,0,0,0,6.5,12Z\"/>\n",
              "  </svg>\n",
              "    </button>\n",
              "    <script>\n",
              "      (() => {\n",
              "      const buttonEl =\n",
              "        document.querySelector('#id_77b69494-df98-4ffd-9473-f77294287819 button.colab-df-generate');\n",
              "      buttonEl.style.display =\n",
              "        google.colab.kernel.accessAllowed ? 'block' : 'none';\n",
              "\n",
              "      buttonEl.onclick = () => {\n",
              "        google.colab.notebook.generateWithVariable('heartdf');\n",
              "      }\n",
              "      })();\n",
              "    </script>\n",
              "  </div>\n",
              "\n",
              "    </div>\n",
              "  </div>\n"
            ],
            "application/vnd.google.colaboratory.intrinsic+json": {
              "type": "dataframe",
              "variable_name": "heartdf",
              "summary": "{\n  \"name\": \"heartdf\",\n  \"rows\": 303,\n  \"fields\": [\n    {\n      \"column\": \"age\",\n      \"properties\": {\n        \"dtype\": \"number\",\n        \"std\": 9,\n        \"min\": 29,\n        \"max\": 77,\n        \"num_unique_values\": 41,\n        \"samples\": [\n          46,\n          66,\n          48\n        ],\n        \"semantic_type\": \"\",\n        \"description\": \"\"\n      }\n    },\n    {\n      \"column\": \"sex\",\n      \"properties\": {\n        \"dtype\": \"number\",\n        \"std\": 0,\n        \"min\": 0,\n        \"max\": 1,\n        \"num_unique_values\": 2,\n        \"samples\": [\n          0,\n          1\n        ],\n        \"semantic_type\": \"\",\n        \"description\": \"\"\n      }\n    },\n    {\n      \"column\": \"cp\",\n      \"properties\": {\n        \"dtype\": \"number\",\n        \"std\": 1,\n        \"min\": 0,\n        \"max\": 3,\n        \"num_unique_values\": 4,\n        \"samples\": [\n          2,\n          0\n        ],\n        \"semantic_type\": \"\",\n        \"description\": \"\"\n      }\n    },\n    {\n      \"column\": \"trtbps\",\n      \"properties\": {\n        \"dtype\": \"number\",\n        \"std\": 17,\n        \"min\": 94,\n        \"max\": 200,\n        \"num_unique_values\": 49,\n        \"samples\": [\n          104,\n          123\n        ],\n        \"semantic_type\": \"\",\n        \"description\": \"\"\n      }\n    },\n    {\n      \"column\": \"chol\",\n      \"properties\": {\n        \"dtype\": \"number\",\n        \"std\": 51,\n        \"min\": 126,\n        \"max\": 564,\n        \"num_unique_values\": 152,\n        \"samples\": [\n          277,\n          169\n        ],\n        \"semantic_type\": \"\",\n        \"description\": \"\"\n      }\n    },\n    {\n      \"column\": \"fbs\",\n      \"properties\": {\n        \"dtype\": \"number\",\n        \"std\": 0,\n        \"min\": 0,\n        \"max\": 1,\n        \"num_unique_values\": 2,\n        \"samples\": [\n          0,\n          1\n        ],\n        \"semantic_type\": \"\",\n        \"description\": \"\"\n      }\n    },\n    {\n      \"column\": \"restecg\",\n      \"properties\": {\n        \"dtype\": \"number\",\n        \"std\": 0,\n        \"min\": 0,\n        \"max\": 2,\n        \"num_unique_values\": 3,\n        \"samples\": [\n          0,\n          1\n        ],\n        \"semantic_type\": \"\",\n        \"description\": \"\"\n      }\n    },\n    {\n      \"column\": \"thalachh\",\n      \"properties\": {\n        \"dtype\": \"number\",\n        \"std\": 22,\n        \"min\": 71,\n        \"max\": 202,\n        \"num_unique_values\": 91,\n        \"samples\": [\n          159,\n          152\n        ],\n        \"semantic_type\": \"\",\n        \"description\": \"\"\n      }\n    },\n    {\n      \"column\": \"exng\",\n      \"properties\": {\n        \"dtype\": \"number\",\n        \"std\": 0,\n        \"min\": 0,\n        \"max\": 1,\n        \"num_unique_values\": 2,\n        \"samples\": [\n          1,\n          0\n        ],\n        \"semantic_type\": \"\",\n        \"description\": \"\"\n      }\n    },\n    {\n      \"column\": \"oldpeak\",\n      \"properties\": {\n        \"dtype\": \"number\",\n        \"std\": 1.1610750220686343,\n        \"min\": 0.0,\n        \"max\": 6.2,\n        \"num_unique_values\": 40,\n        \"samples\": [\n          1.9,\n          3.0\n        ],\n        \"semantic_type\": \"\",\n        \"description\": \"\"\n      }\n    },\n    {\n      \"column\": \"slp\",\n      \"properties\": {\n        \"dtype\": \"number\",\n        \"std\": 0,\n        \"min\": 0,\n        \"max\": 2,\n        \"num_unique_values\": 3,\n        \"samples\": [\n          0,\n          2\n        ],\n        \"semantic_type\": \"\",\n        \"description\": \"\"\n      }\n    },\n    {\n      \"column\": \"caa\",\n      \"properties\": {\n        \"dtype\": \"number\",\n        \"std\": 1,\n        \"min\": 0,\n        \"max\": 4,\n        \"num_unique_values\": 5,\n        \"samples\": [\n          2,\n          4\n        ],\n        \"semantic_type\": \"\",\n        \"description\": \"\"\n      }\n    },\n    {\n      \"column\": \"thall\",\n      \"properties\": {\n        \"dtype\": \"number\",\n        \"std\": 0,\n        \"min\": 0,\n        \"max\": 3,\n        \"num_unique_values\": 4,\n        \"samples\": [\n          2,\n          0\n        ],\n        \"semantic_type\": \"\",\n        \"description\": \"\"\n      }\n    },\n    {\n      \"column\": \"output\",\n      \"properties\": {\n        \"dtype\": \"number\",\n        \"std\": 0,\n        \"min\": 0,\n        \"max\": 1,\n        \"num_unique_values\": 2,\n        \"samples\": [\n          0,\n          1\n        ],\n        \"semantic_type\": \"\",\n        \"description\": \"\"\n      }\n    }\n  ]\n}"
            }
          },
          "metadata": {},
          "execution_count": 30
        }
      ]
    },
    {
      "cell_type": "code",
      "execution_count": 31,
      "id": "01145512",
      "metadata": {
        "id": "01145512"
      },
      "outputs": [],
      "source": [
        "def sparse_vectors(data, queries, threshold, epsilon=0.5):\n",
        "    threshold_perturbed = npr.laplace(threshold, 2/epsilon)\n",
        "\n",
        "    for q in queries:\n",
        "        qnoise = npr.laplace(0, 4/epsilon)\n",
        "        if (q(data) + qnoise) >= threshold_perturbed:\n",
        "            yield \"ABOVE\"\n",
        "            break\n",
        "        else:\n",
        "            yield \"BELOW\""
      ]
    },
    {
      "cell_type": "code",
      "execution_count": 79,
      "id": "64e694ff",
      "metadata": {
        "id": "64e694ff",
        "colab": {
          "base_uri": "https://localhost:8080/"
        },
        "outputId": "ca8f6db1-687c-4746-b02f-b8b8cae6be78"
      },
      "outputs": [
        {
          "output_type": "stream",
          "name": "stdout",
          "text": [
            "[145 130 130 120 120 140 140 120 172 150] ['BELOW', 'BELOW', 'BELOW', 'BELOW', 'BELOW', 'BELOW', 'BELOW', 'BELOW', 'ABOVE']\n"
          ]
        }
      ],
      "source": [
        "scores = heartdf[\"trtbps\"].values\n",
        "\n",
        "queries = [lambda x: x[0],\n",
        "           lambda x: x[1],\n",
        "           lambda x: x[2],\n",
        "           lambda x: x[3],\n",
        "           lambda x: x[4],\n",
        "           lambda x: x[5],\n",
        "           lambda x: x[6],\n",
        "           lambda x: x[7],\n",
        "           lambda x: x[8],\n",
        "           lambda x: x[9]]\n",
        "\n",
        "output = list(sparse_vectors(scores, queries, 150, epsilon=10))\n",
        "print(scores[:10],output)"
      ]
    },
    {
      "cell_type": "code",
      "source": [
        "#TEST TEST TEST\n",
        "queries = [\n",
        "    lambda x: x[\"chol\"].mean(),  #mean cholesterol level\n",
        "    lambda x: x[\"age\"].mean(),   #mean age\n",
        "    lambda x: x[\"trtbps\"].max(), #maximum resting blood pressure\n",
        "    lambda x: x[\"thalachh\"].min(),  #minimum heart rate\n",
        "    lambda x: x[\"chol\"].mean(),  #mean of cholesterol\n",
        "]\n",
        "output = list(sparse_vectors(heartdf, queries, threshold=200, epsilon=10))\n",
        "\n",
        "print(\"Output:\", output)"
      ],
      "metadata": {
        "colab": {
          "base_uri": "https://localhost:8080/"
        },
        "id": "-U0UKzV9I5MN",
        "outputId": "48c4983e-ed6f-401b-f4e9-c092e3ef2dda"
      },
      "id": "-U0UKzV9I5MN",
      "execution_count": 33,
      "outputs": [
        {
          "output_type": "stream",
          "name": "stdout",
          "text": [
            "Output: ['ABOVE']\n"
          ]
        }
      ]
    },
    {
      "cell_type": "code",
      "execution_count": 34,
      "id": "c5271f1d",
      "metadata": {
        "id": "c5271f1d"
      },
      "outputs": [],
      "source": [
        "#c limits the 'above' answers i get, delta=little number to approximately\n",
        "#differential privacy (0 is used for pure differential privacy)\n",
        "def sparse(data, queries, threshold, epsilon, c, delta=0):\n",
        "    if delta == 0:\n",
        "        sigma = 2 * c / epsilon\n",
        "    else:\n",
        "        sigma = np.sqrt(32 * c * np.log(1 / delta)) / epsilon\n",
        "\n",
        "    threshold_hat = threshold + npr.laplace(0, sigma)\n",
        "    count = 0\n",
        "\n",
        "    outputs = []\n",
        "    for q in queries:\n",
        "        vi = npr.laplace(0, 2 * sigma)\n",
        "        if q(data) + vi >= threshold_hat:\n",
        "            outputs.append(\"ABOVE\")\n",
        "            count += 1\n",
        "            threshold_hat = threshold + npr.laplace(0, sigma)\n",
        "        else:\n",
        "            outputs.append(\"BELOW\")\n",
        "\n",
        "        if count >= c:\n",
        "            break\n",
        "\n",
        "    return outputs"
      ]
    },
    {
      "cell_type": "code",
      "execution_count": 66,
      "id": "b8a78d76",
      "metadata": {
        "id": "b8a78d76"
      },
      "outputs": [],
      "source": [
        "def numeric_sparse(data, queries, threshold, c, epsilon, delta=0):\n",
        "    if delta == 0:\n",
        "        epsilon1 = (8 / 9) * epsilon\n",
        "        epsilon2 = (2 / 9) * epsilon\n",
        "        sigma = lambda e: 2 * c / e\n",
        "    else:\n",
        "        epsilon1 = epsilon / np.sqrt(512 + 1)\n",
        "        epsilon2 = 2 / np.sqrt(512 + 1)\n",
        "        sigma = lambda e: np.sqrt(32 * c * np.log(1 / delta)) / e\n",
        "\n",
        "    threshold_hat = threshold + npr.laplace(0, sigma(epsilon1))\n",
        "    count = 0\n",
        "\n",
        "    outputs = []\n",
        "    for q in queries:\n",
        "        qres = q(data)\n",
        "        vi = npr.laplace(0, 2 * sigma(epsilon1))\n",
        "        if qres + vi >= threshold_hat:\n",
        "            vi2 = npr.laplace(0, sigma(epsilon2))\n",
        "            result = qres + vi2\n",
        "            outputs.append(result) #outputs the numerical value of the above threshold queries,\n",
        "            #which we can do with only a constant factor loss in accuracy\n",
        "            count += 1\n",
        "            threshold_hat = threshold + npr.laplace(0, sigma(epsilon1))\n",
        "        else:\n",
        "            outputs.append(\"BELOW\")\n",
        "        if count >= c:\n",
        "            break\n",
        "\n",
        "    return outputs"
      ]
    },
    {
      "cell_type": "code",
      "source": [
        "chol = heartdf[\"chol\"].values\n",
        "cp = heartdf[\"cp\"].values\n",
        "trtbps = heartdf[\"trtbps\"].values\n",
        "max_value = heartdf[\"trtbps\"].max()\n",
        "\n",
        "\n",
        "queries = [\n",
        "    lambda x: np.mean(x[x > 160]),        #mean of chol > 160\n",
        "    lambda x: np.mean(x),                 #mean of the entire chol column\n",
        "    lambda x: np.sum(x > 150),            #count of values > 150\n",
        "    lambda x: np.std(x),                  #standard deviation of chol column\n",
        "    lambda x: np.min(x),                  #minimum value in chol column\n",
        "    lambda x: np.max(x)                   #maximum value in chol column\n",
        "]\n",
        "\n",
        "output = list(sparse(chol, queries, 140, epsilon=10,  c=5, delta=1e-5))\n",
        "print(scores[:10],output)"
      ],
      "metadata": {
        "colab": {
          "base_uri": "https://localhost:8080/"
        },
        "id": "xQwrU-NBD3pL",
        "outputId": "5ce5875d-2e09-491f-ffdd-c6d748581208"
      },
      "id": "xQwrU-NBD3pL",
      "execution_count": 92,
      "outputs": [
        {
          "output_type": "stream",
          "name": "stdout",
          "text": [
            "[233 250 204 236 354 192 294 263 199 168] ['ABOVE', 'ABOVE', 'ABOVE', 'BELOW', 'BELOW', 'ABOVE']\n"
          ]
        }
      ]
    },
    {
      "cell_type": "code",
      "source": [
        "chol = heartdf[\"chol\"].values\n",
        "cp = heartdf[\"cp\"].values\n",
        "trtbps = heartdf[\"trtbps\"].values\n",
        "max_value = heartdf[\"trtbps\"].max()\n",
        "\n",
        "queries = [\n",
        "    lambda x: np.mean(x[x > 160]),        #mean of chol > 160\n",
        "    lambda x: np.mean(x),                 #mean of the entire chol column\n",
        "    lambda x: np.sum(x > 150),            #count of values > 150\n",
        "    lambda x: np.std(x),                  #standard deviation of chol column\n",
        "    lambda x: np.min(x),                  #minimum value in chol column\n",
        "    lambda x: np.max(x)                   #maximum value in chol column\n",
        "]\n",
        "\n",
        "\n",
        "output = list(numeric_sparse(chol, queries, threshold=140, c=5, epsilon=10, delta=1e-5))\n",
        "\n",
        "print(scores[:10],output)"
      ],
      "metadata": {
        "colab": {
          "base_uri": "https://localhost:8080/"
        },
        "id": "G1-WHuDxEC2p",
        "outputId": "dce5ad26-97dc-4c06-b96c-c4fb135b704c"
      },
      "id": "G1-WHuDxEC2p",
      "execution_count": 93,
      "outputs": [
        {
          "output_type": "stream",
          "name": "stdout",
          "text": [
            "[233 250 204 236 354 192 294 263 199 168] ['BELOW', 14.435422198974976, -473.56422119749277, -86.7053096527608, 'BELOW', 'BELOW']\n"
          ]
        }
      ]
    },
    {
      "cell_type": "markdown",
      "source": [
        "<h4>These are examples with the teacher's dataset using my algorithms</h4>"
      ],
      "metadata": {
        "id": "TaR_G3II5MDF"
      },
      "id": "TaR_G3II5MDF"
    },
    {
      "cell_type": "code",
      "source": [
        "scores = npr.random(size=10)\n",
        "\n",
        "queries = [lambda x: x[0],\n",
        "           lambda x: x[1],\n",
        "           lambda x: x[2],\n",
        "           lambda x: x[3],\n",
        "           lambda x: x[4],\n",
        "           lambda x: x[5],\n",
        "           lambda x: x[6],\n",
        "           lambda x: x[7],\n",
        "           lambda x: x[8],\n",
        "           lambda x: x[9]]\n",
        "output = list(sparse(scores, queries, .5, epsilon=10,  c=5, delta=1e-5))\n",
        "print(scores,output)"
      ],
      "metadata": {
        "colab": {
          "base_uri": "https://localhost:8080/"
        },
        "id": "ORKuK_6yjRJs",
        "outputId": "423165ff-17dd-44ce-f81a-fa615b2757f1"
      },
      "id": "ORKuK_6yjRJs",
      "execution_count": 67,
      "outputs": [
        {
          "output_type": "stream",
          "name": "stdout",
          "text": [
            "[0.03709912 0.77077808 0.5783126  0.79600857 0.68824652 0.98352417\n",
            " 0.08838695 0.69734936 0.47386148 0.53347405] ['BELOW', 'ABOVE', 'BELOW', 'ABOVE', 'ABOVE', 'ABOVE', 'BELOW', 'BELOW', 'ABOVE']\n"
          ]
        }
      ]
    },
    {
      "cell_type": "code",
      "source": [
        "scores = npr.random(size=10)\n",
        "\n",
        "queries = [lambda x: x[0],\n",
        "           lambda x: x[1],\n",
        "           lambda x: x[2],\n",
        "           lambda x: x[3],\n",
        "           lambda x: x[4],\n",
        "           lambda x: x[5],\n",
        "           lambda x: x[6],\n",
        "           lambda x: x[7],\n",
        "           lambda x: x[8],\n",
        "           lambda x: x[9]]\n",
        "output = list(numeric_sparse(scores, queries, .5, epsilon=10,  c=5, delta=1e-5))\n",
        "print(scores,output)"
      ],
      "metadata": {
        "colab": {
          "base_uri": "https://localhost:8080/"
        },
        "id": "mdRRj1Y4kC9O",
        "outputId": "d0b0c944-5d0f-42e8-e4af-3babeef31748"
      },
      "id": "mdRRj1Y4kC9O",
      "execution_count": 68,
      "outputs": [
        {
          "output_type": "stream",
          "name": "stdout",
          "text": [
            "[0.53787683 0.90474995 0.58598999 0.43542592 0.59451557 0.33017375\n",
            " 0.1414171  0.83934958 0.25895523 0.28203139] [578.0655058900282, -237.41510112346205, 'BELOW', 'BELOW', -975.4452400160701, -17.86572530785618, 654.0885855687793]\n"
          ]
        }
      ]
    },
    {
      "cell_type": "markdown",
      "id": "b95ec88b",
      "metadata": {
        "id": "b95ec88b"
      },
      "source": [
        "# THE MEAN QUERY"
      ]
    },
    {
      "cell_type": "markdown",
      "id": "4c236b0d",
      "metadata": {
        "id": "4c236b0d"
      },
      "source": [
        "We are going to apply three algorithms:\n",
        "<ol>\n",
        "    <li> noisy count to discover the number of subjects </li>\n",
        "    <li> above_threshold to decide the best clipping </li>\n",
        "    <li> noisy sum to compute the clipped sum</li>\n",
        "</ol>\n",
        "\n",
        "We can assign 1/3 of epsilon to each action."
      ]
    },
    {
      "cell_type": "code",
      "execution_count": 69,
      "id": "f4e08638",
      "metadata": {
        "id": "f4e08638",
        "colab": {
          "base_uri": "https://localhost:8080/"
        },
        "outputId": "a93d37b1-4b82-47a6-b72b-fe6c7e7de7d0"
      },
      "outputs": [
        {
          "output_type": "stream",
          "name": "stdout",
          "text": [
            "real mean: 131.62376237623764 - dp mean: 130.61956846189582\n"
          ]
        }
      ],
      "source": [
        "def clip (v, l, u):\n",
        "    if v>u:\n",
        "        return u\n",
        "    elif v<l:\n",
        "        return l\n",
        "    else:\n",
        "        return v\n",
        "\n",
        "def clipped_sum(data, l, u):\n",
        "    return np.array([clip(v, l, u) for v in data]).sum()\n",
        "\n",
        "# preserves epsilon-differential privacy\n",
        "def above_threshold(queries, df, T, epsilon):\n",
        "    T_hat = T + np.random.laplace(loc=0, scale = 2/epsilon)\n",
        "    for idx, q in enumerate(queries):\n",
        "        nu_i = np.random.laplace(loc=0, scale = 4/epsilon)\n",
        "        if q(df) + nu_i >= T_hat:\n",
        "            return idx\n",
        "    # if the algorithm \"fails\", return a random index\n",
        "    # more convenient in certain use cases\n",
        "    return random.randint(0,len(queries)-1)\n",
        "\n",
        "\n",
        "def auto_avg(df, epsilon):\n",
        "    def create_query(b):\n",
        "        return lambda df: clipped_sum(df, 0, b) - clipped_sum(df, 0, b+1)\n",
        "\n",
        "    bs = range(1,150000,5)\n",
        "    queries = [create_query(b) for b in bs]\n",
        "\n",
        "    epsilon_svt = epsilon / 3\n",
        "    final_b = bs[above_threshold(queries, df, 0, epsilon_svt)]\n",
        "\n",
        "    epsilon_sum = epsilon / 3\n",
        "    epsilon_count = epsilon / 3\n",
        "\n",
        "\n",
        "    noisy_sum = npr.laplace(loc=clipped_sum(df, 0, final_b), scale=final_b/epsilon_sum)\n",
        "    noisy_count = npr.laplace(loc=len(df), scale=1/epsilon_count)\n",
        "\n",
        "    return noisy_sum/noisy_count\n",
        "\n",
        "heartdf = pd.read_csv(\"heart.csv\")\n",
        "data = heartdf['trtbps'].values\n",
        "#data = np.abs(npr.random(size=100)*50)\n",
        "print(f\"real mean: {np.mean(data)} - dp mean: {auto_avg(data, 1)}\")"
      ]
    },
    {
      "cell_type": "markdown",
      "source": [
        "<h2>CLIPPING</h2> Controls the influence of outliers by bounding values within a range"
      ],
      "metadata": {
        "id": "TB2Rn1IHCVtV"
      },
      "id": "TB2Rn1IHCVtV"
    },
    {
      "cell_type": "markdown",
      "source": [
        "<h2>ABOVE THRESHOLD</h2> Dynamically determines the clipping bound to improve accuracy while preserving privacy"
      ],
      "metadata": {
        "id": "RUoXy-edCar4"
      },
      "id": "RUoXy-edCar4"
    },
    {
      "cell_type": "markdown",
      "source": [
        "<h2>NOISE ADDITION</h2> Laplace noise ensures differential privacy. epsilon/3 is allocated in the 3 stuff."
      ],
      "metadata": {
        "id": "963OncblCic3"
      },
      "id": "963OncblCic3"
    },
    {
      "cell_type": "markdown",
      "source": [
        "Larger <Strong>epsilon</strong> reduces noise, improving accuracy but weakening privacy. Smaller <strong>epsilon</strong> increases noise, enhancing privacy but degrading utility."
      ],
      "metadata": {
        "id": "HWyjYZWjCr65"
      },
      "id": "HWyjYZWjCr65"
    },
    {
      "cell_type": "markdown",
      "source": [
        "<h1>Google RAPPOR</h1>\n",
        "<h5> It is an algorithm created by google to collect statistics on chrome and possibly on the machines it works on.\n",
        "The transmission of a value v to the server is based on the three phases:\n",
        "<ol>\n",
        "<li>encode the value v in a vector B via bloom filter</li>\n",
        "<li>randomize (and memoize) B in a vector B'</li>\n",
        "<li>randomize B' in a response S and send it to the server</li>\n",
        "</ol>\n",
        "This prevents the averaging attack; it is very difficult to get back to the original value before the bloom filter on."
      ],
      "metadata": {
        "id": "FP53oANy018T"
      },
      "id": "FP53oANy018T"
    },
    {
      "cell_type": "code",
      "source": [
        "!pip install ace_tools"
      ],
      "metadata": {
        "id": "2yfT_DpR4cyc",
        "colab": {
          "base_uri": "https://localhost:8080/"
        },
        "outputId": "567ecbc0-d0aa-418e-98a6-962383430112"
      },
      "id": "2yfT_DpR4cyc",
      "execution_count": 70,
      "outputs": [
        {
          "output_type": "stream",
          "name": "stdout",
          "text": [
            "Collecting ace_tools\n",
            "  Downloading ace_tools-0.0-py3-none-any.whl.metadata (300 bytes)\n",
            "Downloading ace_tools-0.0-py3-none-any.whl (1.1 kB)\n",
            "Installing collected packages: ace_tools\n",
            "Successfully installed ace_tools-0.0\n"
          ]
        }
      ]
    },
    {
      "cell_type": "code",
      "source": [
        "import pandas as pd\n",
        "import hashlib\n",
        "import hmac\n",
        "import struct\n",
        "from random import SystemRandom\n",
        "\n",
        "\n",
        "heart_data = pd.read_csv(\"heart.csv\")\n",
        "\n",
        "#RAPPOR parameters\n",
        "class Params:\n",
        "    def __init__(self):\n",
        "        self.num_bloombits = 16\n",
        "        self.num_hashes = 2\n",
        "        self.num_cohorts = 64\n",
        "        self.prob_p = 0.50\n",
        "        self.prob_q = 0.75\n",
        "        self.prob_f = 0.50\n",
        "\n",
        "class _SecureRandom:\n",
        "    def __init__(self, prob_one, num_bits):\n",
        "        self.prob_one = prob_one\n",
        "        self.num_bits = num_bits\n",
        "\n",
        "    def __call__(self):\n",
        "        p = self.prob_one\n",
        "        rand = SystemRandom()\n",
        "        r = 0\n",
        "        for i in range(self.num_bits):\n",
        "            bit = rand.random() < p\n",
        "            r |= (bit << i)\n",
        "        return r\n",
        "\n",
        "class SecureIrrRand:\n",
        "    def __init__(self, params):\n",
        "        self.p_gen = _SecureRandom(params.prob_p, params.num_bloombits)\n",
        "        self.q_gen = _SecureRandom(params.prob_q, params.num_bloombits)\n",
        "\n",
        "def to_big_endian(i):\n",
        "    return struct.pack('>L', i)\n",
        "\n",
        "def get_bloom_bits(word, cohort, num_hashes, num_bloombits):\n",
        "    value = to_big_endian(cohort) + word\n",
        "    md5 = hashlib.md5(value)\n",
        "    digest = md5.digest()\n",
        "    return [digest[i] % num_bloombits for i in range(num_hashes)]\n",
        "\n",
        "def get_prr_masks(secret, word, prob_f, num_bits):\n",
        "    h = hmac.new(secret, word, digestmod=hashlib.sha256)\n",
        "    digest_bytes = h.digest()\n",
        "    threshold128 = prob_f * 128\n",
        "    uniform = 0\n",
        "    f_mask = 0\n",
        "    for i in range(num_bits):\n",
        "        byte = digest_bytes[i]\n",
        "        u_bit = byte & 0x01\n",
        "        uniform |= (u_bit << i)\n",
        "        rand128 = byte >> 1\n",
        "        noise_bit = (rand128 < threshold128)\n",
        "        f_mask |= (noise_bit << i)\n",
        "    return uniform, f_mask\n",
        "\n",
        "class Encoder:\n",
        "    def __init__(self, params, cohort, secret, irr_rand):\n",
        "        self.params = params\n",
        "        self.cohort = cohort\n",
        "        self.secret = secret\n",
        "        self.irr_rand = irr_rand\n",
        "\n",
        "    def _internal_encode_bits(self, bits):\n",
        "        uniform, f_mask = get_prr_masks(self.secret, to_big_endian(bits), self.params.prob_f, self.params.num_bloombits)\n",
        "        prr = (bits & ~f_mask) | (uniform & f_mask)\n",
        "        p_bits = self.irr_rand.p_gen()\n",
        "        q_bits = self.irr_rand.q_gen()\n",
        "        irr = (p_bits & ~prr) | (q_bits & prr)\n",
        "        return prr, irr\n",
        "\n",
        "    def encode(self, word):\n",
        "        bloom_bits = get_bloom_bits(word, self.cohort, self.params.num_hashes, self.params.num_bloombits)\n",
        "        bloom = sum((1 << bit) for bit in bloom_bits)\n",
        "        _, irr = self._internal_encode_bits(bloom)\n",
        "        return irr\n",
        "\n",
        "#RAPPOR parameters and encoder\n",
        "params = Params()\n",
        "secret = b'secret_key'\n",
        "cohort = 1\n",
        "irr_rand = SecureIrrRand(params)\n",
        "encoder = Encoder(params, cohort, secret, irr_rand)\n",
        "\n",
        "heart_data['cp_bin'] = heart_data['cp'].apply(lambda x: encoder.encode(str(x).encode()))\n",
        "print(heart_data.head())"
      ],
      "metadata": {
        "id": "8ySgm_gk03bL",
        "colab": {
          "base_uri": "https://localhost:8080/"
        },
        "outputId": "b5ffc11b-03a5-4ce8-dd8c-db72d65d6391"
      },
      "id": "8ySgm_gk03bL",
      "execution_count": 71,
      "outputs": [
        {
          "output_type": "stream",
          "name": "stdout",
          "text": [
            "   age  sex  cp  trtbps  chol  fbs  restecg  thalachh  exng  oldpeak  slp  \\\n",
            "0   63    1   3     145   233    1        0       150     0      2.3    0   \n",
            "1   37    1   2     130   250    0        1       187     0      3.5    0   \n",
            "2   41    0   1     130   204    0        0       172     0      1.4    2   \n",
            "3   56    1   1     120   236    0        1       178     0      0.8    2   \n",
            "4   57    0   0     120   354    0        1       163     1      0.6    2   \n",
            "\n",
            "   caa  thall  output  cp_bin  \n",
            "0    0      1       1   64378  \n",
            "1    0      2       1   41877  \n",
            "2    0      2       1    7530  \n",
            "3    0      2       1   40231  \n",
            "4    0      2       1   12210  \n"
          ]
        }
      ]
    },
    {
      "cell_type": "markdown",
      "source": [
        "<h2>Microsoft LDP</h2>\n",
        "If I want to send an info, I need to send $log_{2}(m)$ bits.\n",
        "E.g. I want to know the chol mean in my dataset."
      ],
      "metadata": {
        "id": "GLd-g5bDOPBu"
      },
      "id": "GLd-g5bDOPBu"
    },
    {
      "cell_type": "code",
      "source": [
        "heartdf = pd.read_csv(\"heart.csv\")"
      ],
      "metadata": {
        "id": "7FZXanUlpnP0"
      },
      "id": "7FZXanUlpnP0",
      "execution_count": 73,
      "outputs": []
    },
    {
      "cell_type": "code",
      "source": [
        "def generate_ldp_bit(X, epsilon, m):\n",
        "    prob_one = 1 / (np.exp(epsilon) + 1) + (X / m) * (np.exp(epsilon) - 1) / (np.exp(epsilon) + 1)\n",
        "    return 1 if np.random.random() < prob_one else 0\n",
        "\n",
        "def estimate_mean(Y, epsilon, m, n):\n",
        "    mean2 = (m / n) * sum(Y) * (np.exp(epsilon) + 1) / (np.exp(epsilon) - 1) - m / (np.exp(epsilon) - 1)\n",
        "    return mean2\n",
        "\n",
        "if __name__ == \"__main__\":\n",
        "    epsilon = 2.0\n",
        "    m = 450 #max value set by me\n",
        "\n",
        "    filtered_data = heartdf[heartdf['age'] > 50]['chol']\n",
        "    n = len(filtered_data)\n",
        "\n",
        "    if n > 0:\n",
        "        ldp_data = [generate_ldp_bit(X, epsilon, m) for X in filtered_data]\n",
        "        est_mean = estimate_mean(ldp_data, epsilon, m, n)\n",
        "        og_mean = filtered_data.mean()\n",
        "\n",
        "        print(f\"The real mean of the 'chol' with age > 50 is: {og_mean}\")\n",
        "        print(f\"The estimated mean using Microsoft Low Communication LDP is: {est_mean}\")\n",
        "    else:\n",
        "        print(\"No data found for age > 50\")\n"
      ],
      "metadata": {
        "id": "02OLeCUgOQl9",
        "colab": {
          "base_uri": "https://localhost:8080/"
        },
        "outputId": "52ffdfea-bff7-4694-8299-5475aee4eeaf"
      },
      "id": "02OLeCUgOQl9",
      "execution_count": 74,
      "outputs": [
        {
          "output_type": "stream",
          "name": "stdout",
          "text": [
            "The real mean of the 'chol' with age > 50 is: 252.84615384615384\n",
            "The estimated mean using Microsoft Low Communication LDP is: 270.4512214211307\n"
          ]
        }
      ]
    },
    {
      "cell_type": "markdown",
      "source": [
        "es, you can apply Microsoft's Low-Communication LDP algorithm to answer the question: How many people have the trtbps (resting blood pressure) value over 140?\n",
        "\n",
        "To achieve this, you need to encode the condition (\n",
        "trtbps\n",
        ">\n",
        "140\n",
        "trtbps>140) into a bit (\n",
        "𝑌\n",
        "𝑖\n",
        "Y\n",
        "i\n",
        "​\n",
        " ) for each user, privatize this bit using LDP, and then estimate the count using the perturbed data."
      ],
      "metadata": {
        "id": "Cv5MOuQJfssI"
      },
      "id": "Cv5MOuQJfssI"
    },
    {
      "cell_type": "code",
      "source": [
        "!pip install data"
      ],
      "metadata": {
        "colab": {
          "base_uri": "https://localhost:8080/"
        },
        "id": "IxXhr-dm2SbR",
        "outputId": "1db58047-b778-4363-dee2-f51fecfa37ee"
      },
      "id": "IxXhr-dm2SbR",
      "execution_count": 75,
      "outputs": [
        {
          "output_type": "stream",
          "name": "stdout",
          "text": [
            "Collecting data\n",
            "  Downloading data-0.4.tar.gz (7.0 kB)\n",
            "  Preparing metadata (setup.py) ... \u001b[?25l\u001b[?25hdone\n",
            "Requirement already satisfied: six in /usr/local/lib/python3.10/dist-packages (from data) (1.16.0)\n",
            "Requirement already satisfied: decorator in /usr/local/lib/python3.10/dist-packages (from data) (4.4.2)\n",
            "Collecting funcsigs (from data)\n",
            "  Downloading funcsigs-1.0.2-py2.py3-none-any.whl.metadata (14 kB)\n",
            "Downloading funcsigs-1.0.2-py2.py3-none-any.whl (17 kB)\n",
            "Building wheels for collected packages: data\n",
            "  Building wheel for data (setup.py) ... \u001b[?25l\u001b[?25hdone\n",
            "  Created wheel for data: filename=data-0.4-py3-none-any.whl size=7227 sha256=de52c20d564b572d7c22e7696bf58032555a90bd5d559af4337c3ce3582c4f9b\n",
            "  Stored in directory: /root/.cache/pip/wheels/d0/e8/fa/e253c256048ea58d99a8abb5e751abb6a838af6f12887b5418\n",
            "Successfully built data\n",
            "Installing collected packages: funcsigs, data\n",
            "Successfully installed data-0.4 funcsigs-1.0.2\n"
          ]
        }
      ]
    }
  ],
  "metadata": {
    "kernelspec": {
      "display_name": "Python 3 (ipykernel)",
      "language": "python",
      "name": "python3"
    },
    "language_info": {
      "codemirror_mode": {
        "name": "ipython",
        "version": 3
      },
      "file_extension": ".py",
      "mimetype": "text/x-python",
      "name": "python",
      "nbconvert_exporter": "python",
      "pygments_lexer": "ipython3",
      "version": "3.10.6"
    },
    "colab": {
      "provenance": []
    }
  },
  "nbformat": 4,
  "nbformat_minor": 5
}